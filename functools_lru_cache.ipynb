{
 "cells": [
  {
   "cell_type": "markdown",
   "metadata": {},
   "source": [
    "## functools.lru_cache() 예 (1)"
   ]
  },
  {
   "cell_type": "markdown",
   "metadata": {},
   "source": [
    "- 사용 하기 이전"
   ]
  },
  {
   "cell_type": "code",
   "execution_count": 4,
   "metadata": {},
   "outputs": [
    {
     "name": "stdout",
     "output_type": "stream",
     "text": [
      "a + b 계산 ...\n",
      "1+2는 :  3  입니다.\n",
      "a + b 계산 ...\n",
      "1+2는 :  3  입니다.\n"
     ]
    }
   ],
   "source": [
    "import functools\n",
    "\n",
    "def test(a,b):\n",
    "    print('a + b 계산 ...')\n",
    "    return a + b\n",
    "\n",
    "print('1+2는 : ', test(1,2) , ' 입니다.')\n",
    "print('1+2는 : ', test(1,2) , ' 입니다.')"
   ]
  },
  {
   "cell_type": "markdown",
   "metadata": {},
   "source": [
    "- 사용 후"
   ]
  },
  {
   "cell_type": "code",
   "execution_count": 5,
   "metadata": {},
   "outputs": [
    {
     "name": "stdout",
     "output_type": "stream",
     "text": [
      "a + b 계산 ...\n",
      "1+2는 :  3  입니다.\n",
      "1+2는 :  3  입니다.\n"
     ]
    }
   ],
   "source": [
    "@functools.lru_cache()\n",
    "def test(a,b):\n",
    "    print('a + b 계산 ...')\n",
    "    return a + b\n",
    "\n",
    "print('1+2는 : ', test(1,2) , ' 입니다.')\n",
    "print('1+2는 : ', test(1,2) , ' 입니다.')"
   ]
  },
  {
   "cell_type": "markdown",
   "metadata": {},
   "source": [
    "## functools.lru_cache() 의 예 (2)\n",
    "\n",
    "- 피보나치"
   ]
  },
  {
   "cell_type": "markdown",
   "metadata": {},
   "source": [
    "- 사용하기 이전"
   ]
  },
  {
   "cell_type": "code",
   "execution_count": 6,
   "metadata": {},
   "outputs": [
    {
     "name": "stdout",
     "output_type": "stream",
     "text": [
      "102334155\n",
      "실행 시간 0:00:19.237704\n"
     ]
    }
   ],
   "source": [
    "import datetime\n",
    "\n",
    "def fibonacci(num):\n",
    "    return num if num < 2 else fibonacci(num - 1) + fibonacci(num - 2)\n",
    "\n",
    "\n",
    "start = datetime.datetime.now()\n",
    "print(fibonacci(40))\n",
    "end = datetime.datetime.now()\n",
    "print('실행 시간' , end - start)"
   ]
  },
  {
   "cell_type": "markdown",
   "metadata": {},
   "source": [
    "- 사용 후"
   ]
  },
  {
   "cell_type": "code",
   "execution_count": 7,
   "metadata": {},
   "outputs": [
    {
     "name": "stdout",
     "output_type": "stream",
     "text": [
      "102334155\n",
      "실행 시간 0:00:00.000103\n"
     ]
    }
   ],
   "source": [
    "@functools.lru_cache()\n",
    "def fibonacci(num):\n",
    "    return num if num < 2 else fibonacci(num - 1) + fibonacci(num - 2)\n",
    "\n",
    "\n",
    "start = datetime.datetime.now()\n",
    "print(fibonacci(40))\n",
    "end = datetime.datetime.now()\n",
    "print('실행 시간' , end - start)"
   ]
  },
  {
   "cell_type": "code",
   "execution_count": null,
   "metadata": {},
   "outputs": [],
   "source": []
  }
 ],
 "metadata": {
  "kernelspec": {
   "display_name": "bird_dacon",
   "language": "python",
   "name": "python3"
  },
  "language_info": {
   "codemirror_mode": {
    "name": "ipython",
    "version": 3
   },
   "file_extension": ".py",
   "mimetype": "text/x-python",
   "name": "python",
   "nbconvert_exporter": "python",
   "pygments_lexer": "ipython3",
   "version": "3.10.12"
  }
 },
 "nbformat": 4,
 "nbformat_minor": 2
}
