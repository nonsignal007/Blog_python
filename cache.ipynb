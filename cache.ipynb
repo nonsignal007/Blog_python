{
 "cells": [
  {
   "cell_type": "markdown",
   "metadata": {},
   "source": [
    "# memoization"
   ]
  },
  {
   "cell_type": "markdown",
   "metadata": {},
   "source": [
    "- 미적용"
   ]
  },
  {
   "cell_type": "code",
   "execution_count": 3,
   "metadata": {},
   "outputs": [
    {
     "name": "stdout",
     "output_type": "stream",
     "text": [
      "DB에서 아이디가 B02인 사용자 정보를 읽어오고 있습니다....\n",
      "DB에서 아이디가 B02인 사용자 정보를 읽어오고 있습니다....\n",
      "DB에서 아이디가 A01인 사용자 정보를 읽어오고 있습니다....\n",
      "DB에서 아이디가 B02인 사용자 정보를 읽어오고 있습니다....\n",
      "DB에서 아이디가 B02인 사용자 정보를 읽어오고 있습니다....\n",
      "DB에서 아이디가 A01인 사용자 정보를 읽어오고 있습니다....\n",
      "DB에서 아이디가 A01인 사용자 정보를 읽어오고 있습니다....\n",
      "DB에서 아이디가 A01인 사용자 정보를 읽어오고 있습니다....\n",
      "DB에서 아이디가 A01인 사용자 정보를 읽어오고 있습니다....\n",
      "DB에서 아이디가 B02인 사용자 정보를 읽어오고 있습니다....\n"
     ]
    }
   ],
   "source": [
    "def fetch_user(user_id):\n",
    "\tprint(f'DB에서 아이디가 {user_id}인 사용자 정보를 읽어오고 있습니다....')\n",
    "\treturn {\n",
    "\t\t'userId' : user_id,\n",
    "\t\t'email' : f\"{user_id}@test.com\",\n",
    "\t\t'password' : 'test1234'\n",
    "\t}\n",
    "\n",
    "### memoization 미적용\n",
    "def get_user(user_id):\n",
    "\treturn fetch_user(user_id)\n",
    "\n",
    "if __name__==\"__main__\":\n",
    "\tfrom random import choice\n",
    "\n",
    "\tfor _ in range(10):\n",
    "\t\tget_user(user_id = choice([\"A01\",\"B02\", \"C03\"]))"
   ]
  },
  {
   "cell_type": "markdown",
   "metadata": {},
   "source": [
    "- 적용"
   ]
  },
  {
   "cell_type": "code",
   "execution_count": 2,
   "metadata": {},
   "outputs": [
    {
     "name": "stdout",
     "output_type": "stream",
     "text": [
      "DB에서 아이디가 C03인 사용자 정보를 읽어오고 있습니다....\n",
      "DB에서 아이디가 A01인 사용자 정보를 읽어오고 있습니다....\n",
      "DB에서 아이디가 B02인 사용자 정보를 읽어오고 있습니다....\n"
     ]
    }
   ],
   "source": [
    "def fetch_user(user_id):\n",
    "\tprint(f'DB에서 아이디가 {user_id}인 사용자 정보를 읽어오고 있습니다....')\n",
    "\treturn {\n",
    "\t\t'userId' : user_id,\n",
    "\t\t'email' : f\"{user_id}@test.com\",\n",
    "\t\t'password' : 'test1234'\n",
    "\t}\n",
    "\n",
    "cache = {}\n",
    "\n",
    "### memoization 적용\n",
    "def get_user(user_id):\n",
    "\tif user_id not in cache:\n",
    "\t\tcache[user_id] = fetch_user(user_id)\n",
    "\treturn cache[user_id]\n",
    "\n",
    "if __name__==\"__main__\":\n",
    "\tfrom random import choice\n",
    "\n",
    "\tfor _ in range(10):\n",
    "\t\tget_user(user_id = choice([\"A01\",\"B02\", \"C03\"]))"
   ]
  },
  {
   "cell_type": "markdown",
   "metadata": {},
   "source": [
    "## @cache 데코레이터"
   ]
  },
  {
   "cell_type": "code",
   "execution_count": 4,
   "metadata": {},
   "outputs": [
    {
     "name": "stdout",
     "output_type": "stream",
     "text": [
      "DB에서 아이디가 A01인 사용자 정보를 읽어오고 있습니다....\n",
      "DB에서 아이디가 C03인 사용자 정보를 읽어오고 있습니다....\n",
      "DB에서 아이디가 B02인 사용자 정보를 읽어오고 있습니다....\n"
     ]
    }
   ],
   "source": [
    "from functools import cache\n",
    "\n",
    "def fetch_user(user_id):\n",
    "\tprint(f'DB에서 아이디가 {user_id}인 사용자 정보를 읽어오고 있습니다....')\n",
    "\treturn {\n",
    "\t\t'userId' : user_id,\n",
    "\t\t'email' : f\"{user_id}@test.com\",\n",
    "\t\t'password' : 'test1234'\n",
    "\t}\n",
    "\n",
    "@cache\n",
    "def get_user(user_id):\n",
    "\treturn fetch_user(user_id)\n",
    "\n",
    "if __name__==\"__main__\":\n",
    "\tfrom random import choice\n",
    "\n",
    "\tfor _ in range(10):\n",
    "\t\tget_user(user_id = choice([\"A01\",\"B02\", \"C03\"]))\n"
   ]
  },
  {
   "cell_type": "code",
   "execution_count": null,
   "metadata": {},
   "outputs": [],
   "source": []
  }
 ],
 "metadata": {
  "kernelspec": {
   "display_name": "python_blog",
   "language": "python",
   "name": "python3"
  },
  "language_info": {
   "codemirror_mode": {
    "name": "ipython",
    "version": 3
   },
   "file_extension": ".py",
   "mimetype": "text/x-python",
   "name": "python",
   "nbconvert_exporter": "python",
   "pygments_lexer": "ipython3",
   "version": "3.10.12"
  }
 },
 "nbformat": 4,
 "nbformat_minor": 2
}
